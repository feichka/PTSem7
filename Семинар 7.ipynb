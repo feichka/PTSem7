{
 "cells": [
  {
   "cell_type": "code",
   "execution_count": 26,
   "id": "93efd38d",
   "metadata": {},
   "outputs": [],
   "source": [
    "import numpy as np\n",
    "from scipy import stats"
   ]
  },
  {
   "cell_type": "code",
   "execution_count": null,
   "id": "f61e810c",
   "metadata": {},
   "outputs": [],
   "source": [
    "1-4 задачи решать с помощью функций, 5ю вручную\n",
    "Выбрать тест и проверить, есть  ли различия между выборками:\n",
    "1 )  Даны две  независимые выборки. Не соблюдается условие нормальности\n",
    "x1  380,420, 290\n",
    "y1 140,360,200,900\n",
    "Сделайте вывод по результатам, полученным с помощью функции"
   ]
  },
  {
   "cell_type": "code",
   "execution_count": 27,
   "id": "38b27607",
   "metadata": {},
   "outputs": [
    {
     "data": {
      "text/plain": [
       "MannwhitneyuResult(statistic=8.0, pvalue=0.6285714285714286)"
      ]
     },
     "execution_count": 27,
     "metadata": {},
     "output_type": "execute_result"
    }
   ],
   "source": [
    "x1 = [380,420, 290]\n",
    "y1 = [140,360,200,900]\n",
    "stats.mannwhitneyu(x1, y1)"
   ]
  },
  {
   "cell_type": "code",
   "execution_count": null,
   "id": "7cd3ff8e",
   "metadata": {},
   "outputs": [],
   "source": [
    "При а = 0.05 и pvalue=0.63 можно сделать вывод, что нулевая гипотеза не отвергается,\n",
    "статистически значимых различий в 2 выборках нет."
   ]
  },
  {
   "cell_type": "code",
   "execution_count": null,
   "id": "bc534717",
   "metadata": {},
   "outputs": [],
   "source": [
    "2 ) Исследовалось влияние препарата на уровень давления пациентов. \n",
    "Сначала измерялось давление до приема препарата, потом через 10 минут и через 30 минут. \n",
    "Есть ли статистически значимые различия?\n",
    "1е измерение до приема препарата: 150, 160, 165, 145, 155\n",
    "2е измерение через 10 минут: 140, 155, 150,  130, 135\n",
    "3е измерение через 30 минут: 130, 130, 120, 130, 125"
   ]
  },
  {
   "cell_type": "code",
   "execution_count": 29,
   "id": "6598e4a8",
   "metadata": {},
   "outputs": [
    {
     "data": {
      "text/plain": [
       "FriedmanchisquareResult(statistic=9.578947368421062, pvalue=0.00831683351100441)"
      ]
     },
     "execution_count": 29,
     "metadata": {},
     "output_type": "execute_result"
    }
   ],
   "source": [
    "x1 = [150, 160, 165, 145, 155]\n",
    "x2 = [140, 155, 150,  130, 135]\n",
    "x3 = [130, 130, 120, 130, 125]\n",
    "stats.friedmanchisquare(x1, x2, x3)"
   ]
  },
  {
   "cell_type": "code",
   "execution_count": null,
   "id": "d9de9f96",
   "metadata": {},
   "outputs": [],
   "source": [
    "При а = 0.05 и pvalue=0.008 можно сделать вывод об отвержении нулевой гипотезы и \n",
    "влиянии препарата на давление, статистически значимые различия есть."
   ]
  },
  {
   "cell_type": "code",
   "execution_count": null,
   "id": "12bdf322",
   "metadata": {},
   "outputs": [],
   "source": [
    "3 ) Сравните 1 и 2 е измерения, предполагая, что 3го измерения через 30 минут не было."
   ]
  },
  {
   "cell_type": "code",
   "execution_count": 30,
   "id": "522479e3",
   "metadata": {},
   "outputs": [
    {
     "data": {
      "text/plain": [
       "WilcoxonResult(statistic=0.0, pvalue=0.0625)"
      ]
     },
     "execution_count": 30,
     "metadata": {},
     "output_type": "execute_result"
    }
   ],
   "source": [
    "x1 = [150, 160, 165, 145, 155]\n",
    "x2 = [140, 155, 150,  130, 135]\n",
    "stats.wilcoxon(x1, x2)"
   ]
  },
  {
   "cell_type": "code",
   "execution_count": null,
   "id": "aad4b703",
   "metadata": {},
   "outputs": [],
   "source": [
    "При а = 0.05 и pvalue=0.0625 можно сделать вывод, что нулевая гипотеза не отвергается, \n",
    "препарат не влияет на давление, статистически значимых различий нет."
   ]
  },
  {
   "cell_type": "code",
   "execution_count": null,
   "id": "402a3eab",
   "metadata": {},
   "outputs": [],
   "source": [
    "4) Даны 3 группы  учеников плавания.\n",
    "В 1 группе время на дистанцию 50 м составляют:\n",
    "56, 60, 62, 55, 71, 67, 59, 58, 64, 67\n",
    "Вторая группа : 57, 58, 69, 48, 72, 70, 68, 71, 50, 53\n",
    "Третья группа: 57, 67, 49, 48, 47, 55, 66, 51, 54"
   ]
  },
  {
   "cell_type": "code",
   "execution_count": 31,
   "id": "959515f9",
   "metadata": {},
   "outputs": [
    {
     "data": {
      "text/plain": [
       "KruskalResult(statistic=5.465564058257224, pvalue=0.0650380998590494)"
      ]
     },
     "execution_count": 31,
     "metadata": {},
     "output_type": "execute_result"
    }
   ],
   "source": [
    "gr1 = [56, 60, 62, 55, 71, 67, 59, 58, 64, 67]\n",
    "gr2 = [57, 58, 69, 48, 72, 70, 68, 71, 50, 53]\n",
    "gr3 = [57, 67, 49, 48, 47, 55, 66, 51, 54]\n",
    "stats.kruskal(gr1, gr2, gr3)"
   ]
  },
  {
   "cell_type": "code",
   "execution_count": null,
   "id": "5c3dd8da",
   "metadata": {},
   "outputs": [],
   "source": [
    "При а = 0.05 и pvalue=0.065 можно сделать вывод, что нулевая гипотеза не отвергается, \n",
    "статистически значимых различий  между группами нет."
   ]
  },
  {
   "cell_type": "code",
   "execution_count": null,
   "id": "3b26b0d6",
   "metadata": {},
   "outputs": [],
   "source": [
    "5) Заявляется, что партия изготавливается со средним арифметическим 2,5 см. \n",
    "Проверить данную гипотезу, если известно, что размеры изделий подчинены нормальному закону распределения. \n",
    "Объем выборки 10, уровень статистической значимости 5%\n",
    "2.51, 2.35, 2.74, 2.56, 2.40, 2.36, 2.65, 2.7, 2.67, 2.34"
   ]
  },
  {
   "cell_type": "code",
   "execution_count": 36,
   "id": "ecff9f9e",
   "metadata": {},
   "outputs": [
    {
     "name": "stdout",
     "output_type": "stream",
     "text": [
      "Наблюдаемое значение 0.5630613661802959, критическое значение 2.2621571627409915\n"
     ]
    }
   ],
   "source": [
    "M = 2.5 # H0\n",
    "n = 10\n",
    "a = 0.05\n",
    "x = [2.51, 2.35, 2.74, 2.56, 2.40, 2.36, 2.65, 2.7, 2.67, 2.34]\n",
    "M_x = np.mean(x)\n",
    "s = np.std(x, ddof = 1)\n",
    "tk = stats.t.ppf(1-a/2, df = n-1)\n",
    "tn = (M_x-M)/(s/np.sqrt(n))\n",
    "tk, tn\n",
    "print(f'Наблюдаемое значение {tn}, критическое значение {tk}')"
   ]
  },
  {
   "cell_type": "code",
   "execution_count": null,
   "id": "e7b67a07",
   "metadata": {},
   "outputs": [],
   "source": [
    "Так как наблюдаемое значение меньше критического - нулевая гипотеза не отвергается. Статистических различий между партиями нет."
   ]
  }
 ],
 "metadata": {
  "kernelspec": {
   "display_name": "Python 3 (ipykernel)",
   "language": "python",
   "name": "python3"
  },
  "language_info": {
   "codemirror_mode": {
    "name": "ipython",
    "version": 3
   },
   "file_extension": ".py",
   "mimetype": "text/x-python",
   "name": "python",
   "nbconvert_exporter": "python",
   "pygments_lexer": "ipython3",
   "version": "3.9.13"
  }
 },
 "nbformat": 4,
 "nbformat_minor": 5
}
